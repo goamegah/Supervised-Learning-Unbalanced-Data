{
 "cells": [
  {
   "cell_type": "markdown",
   "id": "d101b7f7-4009-43d0-9710-12080ae6a337",
   "metadata": {},
   "source": [
    "# Analyse exploratoire des données déséquilibrées"
   ]
  },
  {
   "cell_type": "code",
   "execution_count": 1,
   "id": "839c7914-7419-4b34-a4a9-8354bdbfa4e9",
   "metadata": {},
   "outputs": [],
   "source": [
    "# Before lauching jupyter notebook, execute the following command line\n",
    "#jupyter nbextension enable --py --sys-prefix widgetsnbextension"
   ]
  },
  {
   "cell_type": "markdown",
   "id": "843657df-8606-496b-a8cf-8034a3f751c3",
   "metadata": {},
   "source": [
    "## Setup"
   ]
  },
  {
   "cell_type": "markdown",
   "id": "e7cd1174-5de4-4cf3-9d51-85faba5753f9",
   "metadata": {},
   "source": [
    "This project requires Python 3.7 or above:"
   ]
  },
  {
   "cell_type": "code",
   "execution_count": 2,
   "id": "5e7ac3d6-50bd-4c3f-a748-e631a8f15980",
   "metadata": {},
   "outputs": [],
   "source": [
    "import sys\n",
    "assert sys.version_info >= (3, 7)"
   ]
  },
  {
   "cell_type": "markdown",
   "id": "60b04f14-7f2c-4011-b6a1-d8d524d4a613",
   "metadata": {},
   "source": [
    "It also requires Scikit-Learn ≥ 1.0.1:"
   ]
  },
  {
   "cell_type": "code",
   "execution_count": 3,
   "id": "bcf6ed80-12ed-4825-89f7-12f2b9336b0a",
   "metadata": {},
   "outputs": [],
   "source": [
    "from packaging import version\n",
    "import sklearn\n",
    "\n",
    "assert version.parse(sklearn.__version__) >= version.parse(\"1.0.1\")"
   ]
  },
  {
   "cell_type": "markdown",
   "id": "887c09f4-a399-403d-a10e-547f1b0456e5",
   "metadata": {},
   "source": [
    "let's define the default font sizes to make the figures prettier:"
   ]
  },
  {
   "cell_type": "code",
   "execution_count": 4,
   "id": "e19bb17d-5ea4-4775-864d-4e83e405e7f3",
   "metadata": {},
   "outputs": [],
   "source": [
    "import matplotlib.pyplot as plt\n",
    "\n",
    "plt.rc('font', size=14)\n",
    "plt.rc('axes', labelsize=14, titlesize=14)\n",
    "plt.rc('legend', fontsize=14)\n",
    "plt.rc('xtick', labelsize=10)\n",
    "plt.rc('ytick', labelsize=10)"
   ]
  },
  {
   "cell_type": "markdown",
   "id": "e4563094-ec0f-4b6e-b672-fe7d4ea1daf0",
   "metadata": {},
   "source": [
    "And let's create the images/svm folder (if it doesn't already exist), and define the save_fig() function which is used through this notebook to save the figures in high-res for the book:"
   ]
  },
  {
   "cell_type": "code",
   "execution_count": 5,
   "id": "5cb5dab7-9bd2-46cc-b5b3-fdf5dbde462a",
   "metadata": {},
   "outputs": [],
   "source": [
    "from pathlib import Path\n",
    "\n",
    "IMAGES_PATH = Path() / \"images\" / \"svm\"\n",
    "IMAGES_PATH.mkdir(parents=True, exist_ok=True)\n",
    "\n",
    "def save_fig(fig_id, tight_layout=True, fig_extension=\"png\", resolution=300):\n",
    "    path = IMAGES_PATH / f\"{fig_id}.{fig_extension}\"\n",
    "    if tight_layout:\n",
    "        plt.tight_layout()\n",
    "    plt.savefig(path, format=fig_extension, dpi=resolution)"
   ]
  },
  {
   "cell_type": "markdown",
   "id": "f22c6ead-791c-4844-b35c-3ec747303618",
   "metadata": {},
   "source": [
    "Package like numpy for calculus and scipy for stats will be useful for next."
   ]
  },
  {
   "cell_type": "code",
   "execution_count": 6,
   "id": "d950d9c3-b2d8-4647-91be-d14878cdd38e",
   "metadata": {},
   "outputs": [],
   "source": [
    "%matplotlib inline\n",
    "import numpy as np\n",
    "from scipy import stats\n",
    "\n",
    "# use seaborn plotting defaults\n",
    "import seaborn as sns; sns.set()"
   ]
  },
  {
   "cell_type": "markdown",
   "id": "43c6861e-ba77-4141-99cc-9bb5475f133d",
   "metadata": {},
   "source": [
    "## Prédiction de churn, Partie I"
   ]
  },
  {
   "cell_type": "code",
   "execution_count": null,
   "id": "7904a212-d8cc-4531-bd65-e80de2f8a9b9",
   "metadata": {},
   "outputs": [],
   "source": []
  }
 ],
 "metadata": {
  "kernelspec": {
   "display_name": "Python 3 (ipykernel)",
   "language": "python",
   "name": "python3"
  },
  "language_info": {
   "codemirror_mode": {
    "name": "ipython",
    "version": 3
   },
   "file_extension": ".py",
   "mimetype": "text/x-python",
   "name": "python",
   "nbconvert_exporter": "python",
   "pygments_lexer": "ipython3",
   "version": "3.9.16"
  }
 },
 "nbformat": 4,
 "nbformat_minor": 5
}
